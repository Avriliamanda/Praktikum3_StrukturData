{
  "nbformat": 4,
  "nbformat_minor": 0,
  "metadata": {
    "colab": {
      "provenance": [],
      "authorship_tag": "ABX9TyNEdo6W0p0uuMs2WgBGGogQ",
      "include_colab_link": true
    },
    "kernelspec": {
      "name": "python3",
      "display_name": "Python 3"
    },
    "language_info": {
      "name": "python"
    }
  },
  "cells": [
    {
      "cell_type": "markdown",
      "metadata": {
        "id": "view-in-github",
        "colab_type": "text"
      },
      "source": [
        "<a href=\"https://colab.research.google.com/github/Avriliamanda/Praktikum3_StrukturData/blob/main/Praktikum3_G211220093.ipynb\" target=\"_parent\"><img src=\"https://colab.research.google.com/assets/colab-badge.svg\" alt=\"Open In Colab\"/></a>"
      ]
    },
    {
      "cell_type": "code",
      "source": [
        "def convert(s):\n",
        " new = \"\"\n",
        " for x in s:\n",
        "  new += x\n",
        " return new\n",
        "\n",
        "s = ['g', 'e', 'e', 'k', 's', 'f', 'o', 'r',\n",
        "'g', 'e', 'e', 'k', 's']\n",
        "print(convert(s))"
      ],
      "metadata": {
        "colab": {
          "base_uri": "https://localhost:8080/"
        },
        "id": "lBhP6rrAQKXF",
        "outputId": "7144bec5-940c-4ce5-8a0a-11f4dc8a9c98"
      },
      "execution_count": 3,
      "outputs": [
        {
          "output_type": "stream",
          "name": "stdout",
          "text": [
            "geeksforgeeks\n"
          ]
        }
      ]
    },
    {
      "cell_type": "code",
      "execution_count": 5,
      "metadata": {
        "colab": {
          "base_uri": "https://localhost:8080/"
        },
        "id": "Dz5EpINeP0D7",
        "outputId": "e359ae1d-0aad-4a0d-b222-6cd0198f8ead"
      },
      "outputs": [
        {
          "output_type": "stream",
          "name": "stdout",
          "text": [
            "programing\n"
          ]
        }
      ],
      "source": [
        "list_of_chars = ['p', 'r', 'o', 'g', 'r', 'a', 'm', 'i', 'n', 'g']\n",
        "\n",
        "result_string = ''.join(list_of_chars)\n",
        "print(result_string)"
      ]
    }
  ]
}